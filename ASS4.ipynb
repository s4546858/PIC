{
  "nbformat": 4,
  "nbformat_minor": 0,
  "metadata": {
    "colab": {
      "name": "Untitled0.ipynb",
      "provenance": [],
      "authorship_tag": "ABX9TyNnLG//E0Iht8ZwE5QOzRtO",
      "include_colab_link": true
    },
    "kernelspec": {
      "name": "python3",
      "display_name": "Python 3"
    },
    "language_info": {
      "name": "python"
    }
  },
  "cells": [
    {
      "cell_type": "markdown",
      "metadata": {
        "id": "view-in-github",
        "colab_type": "text"
      },
      "source": [
        "<a href=\"https://colab.research.google.com/github/s4546858/PIC/blob/main/ASS4.ipynb\" target=\"_parent\"><img src=\"https://colab.research.google.com/assets/colab-badge.svg\" alt=\"Open In Colab\"/></a>"
      ]
    },
    {
      "cell_type": "code",
      "metadata": {
        "id": "6hIgrBN8e1W4"
      },
      "source": [
        "#!pip install dlib==19.20.0"
      ],
      "execution_count": null,
      "outputs": []
    },
    {
      "cell_type": "code",
      "metadata": {
        "id": "CAE32nkuff3M"
      },
      "source": [
        "import dlib \n",
        "import matplotlib.pyplot as plt\n"
      ],
      "execution_count": null,
      "outputs": []
    },
    {
      "cell_type": "code",
      "metadata": {
        "id": "5OR7m7ckgASB",
        "colab": {
          "base_uri": "https://localhost:8080/",
          "height": 35
        },
        "outputId": "41d05248-c5c7-4fc2-f315-fc85af260c61"
      },
      "source": [
        "dlib.__version__"
      ],
      "execution_count": null,
      "outputs": [
        {
          "output_type": "execute_result",
          "data": {
            "application/vnd.google.colaboratory.intrinsic+json": {
              "type": "string"
            },
            "text/plain": [
              "'19.18.0'"
            ]
          },
          "metadata": {
            "tags": []
          },
          "execution_count": 90
        }
      ]
    },
    {
      "cell_type": "code",
      "metadata": {
        "id": "Z9Y74jXJgOgI"
      },
      "source": [
        "detector = dlib.get_frontal_face_detector\n",
        "sp = dlib.shape_predictor\n",
        "model = dlib.face_recognition_model_v1"
      ],
      "execution_count": null,
      "outputs": []
    },
    {
      "cell_type": "code",
      "metadata": {
        "id": "C3zRw4sLpXXl",
        "colab": {
          "base_uri": "https://localhost:8080/"
        },
        "outputId": "cfb0591d-53e2-4e40-b426-8171ad298887"
      },
      "source": [
        "!mkdir -p images\n",
        "!cd images; wget -nc https://raw.githubusercontent.com/s4546858/PIC/main/image/image_0001.jpg\n",
        "!cd images; wget -nc https://raw.githubusercontent.com/s4546858/PIC/main/image/image_0002.jpg"
      ],
      "execution_count": null,
      "outputs": [
        {
          "output_type": "stream",
          "text": [
            "File ‘image_0001.jpg’ already there; not retrieving.\n",
            "\n",
            "File ‘image_0002.jpg’ already there; not retrieving.\n",
            "\n"
          ],
          "name": "stdout"
        }
      ]
    },
    {
      "cell_type": "code",
      "metadata": {
        "id": "GO29JaOCmGAX",
        "colab": {
          "base_uri": "https://localhost:8080/",
          "height": 180
        },
        "outputId": "cdd7951a-3caa-4a8a-f2f2-645a818a4515"
      },
      "source": [
        "img1 = dlib.load_rgb_image(\"image/image_0001\")\n",
        "img2 = dlib.load_rgb_image(\"image/image_0002\")"
      ],
      "execution_count": null,
      "outputs": [
        {
          "output_type": "error",
          "ename": "RuntimeError",
          "evalue": "ignored",
          "traceback": [
            "\u001b[0;31m---------------------------------------------------------------------------\u001b[0m",
            "\u001b[0;31mRuntimeError\u001b[0m                              Traceback (most recent call last)",
            "\u001b[0;32m<ipython-input-93-d15e10f01f8d>\u001b[0m in \u001b[0;36m<module>\u001b[0;34m()\u001b[0m\n\u001b[0;32m----> 1\u001b[0;31m \u001b[0mimg1\u001b[0m \u001b[0;34m=\u001b[0m \u001b[0mdlib\u001b[0m\u001b[0;34m.\u001b[0m\u001b[0mload_rgb_image\u001b[0m\u001b[0;34m(\u001b[0m\u001b[0;34m\"https://raw.githubusercontent.com/s4546858/PIC/main/image/image_0001.jpg\"\u001b[0m\u001b[0;34m)\u001b[0m\u001b[0;34m\u001b[0m\u001b[0;34m\u001b[0m\u001b[0m\n\u001b[0m\u001b[1;32m      2\u001b[0m \u001b[0mimg2\u001b[0m \u001b[0;34m=\u001b[0m \u001b[0mdlib\u001b[0m\u001b[0;34m.\u001b[0m\u001b[0mload_rgb_image\u001b[0m\u001b[0;34m(\u001b[0m\u001b[0;34m\"Image/image_0002.jpg\"\u001b[0m\u001b[0;34m)\u001b[0m\u001b[0;34m\u001b[0m\u001b[0;34m\u001b[0m\u001b[0m\n",
            "\u001b[0;31mRuntimeError\u001b[0m: Unable to open file: https://raw.githubusercontent.com/s4546858/PIC/main/image/image_0001.jpg"
          ]
        }
      ]
    },
    {
      "cell_type": "code",
      "metadata": {
        "id": "v_JJbC6AmYBP"
      },
      "source": [
        "img1_detected = detector(img1,1)\n",
        "img2_detected = detector(img2,1)"
      ],
      "execution_count": null,
      "outputs": []
    },
    {
      "cell_type": "code",
      "metadata": {
        "id": "5VglRmgymvYS"
      },
      "source": [
        "img1_shape = sp(img1,img1_detected[0])\n",
        "img2_shape = sp(img2,img2_detected[0])"
      ],
      "execution_count": null,
      "outputs": []
    },
    {
      "cell_type": "code",
      "metadata": {
        "id": "mficn9uxnQVw"
      },
      "source": [
        "img1_aligned = dlib.get_face_chip(img1,img1_shape)\n",
        "img2_aligned = dlib.get_face_chip(img2,img2_shape)"
      ],
      "execution_count": null,
      "outputs": []
    },
    {
      "cell_type": "code",
      "metadata": {
        "id": "uHLIKNhvnuSw"
      },
      "source": [
        "plt.imshow(img1_aligned)"
      ],
      "execution_count": null,
      "outputs": []
    }
  ]
}